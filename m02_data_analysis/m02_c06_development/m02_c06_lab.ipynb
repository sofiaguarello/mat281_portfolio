{
 "cells": [
  {
   "cell_type": "markdown",
   "metadata": {
    "slideshow": {
     "slide_type": "slide"
    }
   },
   "source": [
    "<img src=\"https://upload.wikimedia.org/wikipedia/commons/4/47/Logo_UTFSM.png\" width=\"200\" alt=\"utfsm-logo\" align=\"left\"/>\n",
    "\n",
    "# MAT281\n",
    "### Aplicaciones de la Matemática en la Ingeniería"
   ]
  },
  {
   "cell_type": "markdown",
   "metadata": {
    "slideshow": {
     "slide_type": "slide"
    }
   },
   "source": [
    "## Módulo 02\n",
    "## Laboratorio Clase 06: Desarrollo de Algoritmos"
   ]
  },
  {
   "cell_type": "markdown",
   "metadata": {},
   "source": [
    "### Instrucciones\n",
    "\n",
    "\n",
    "* Completa tus datos personales (nombre y rol USM) en siguiente celda.\n",
    "* La escala es de 0 a 4 considerando solo valores enteros.\n",
    "* Debes _pushear_ tus cambios a tu repositorio personal del curso.\n",
    "* Como respaldo, debes enviar un archivo .zip con el siguiente formato `mXX_cYY_lab_apellido_nombre.zip` a alonso.ogueda@gmail.com. \n",
    "* Se evaluará:\n",
    "    - Soluciones\n",
    "    - Código\n",
    "    - Que Binder esté bien configurado.\n",
    "    - Al presionar  `Kernel -> Restart Kernel and Run All Cells` deben ejecutarse todas las celdas sin error.\n",
    "* __La entrega es al final de esta clase.__"
   ]
  },
  {
   "cell_type": "markdown",
   "metadata": {},
   "source": [
    "__Nombre__:\n",
    "\n",
    "__Rol__:"
   ]
  },
  {
   "cell_type": "markdown",
   "metadata": {},
   "source": [
    "## Ejercicio 1 (2 ptos.): \n",
    "Utilizando los datos del Gasto Fiscal Neto de Chile, crea una nueva columna del tipo `datetime` llamada `dt_date` utilizando `anio`, `mes` y el día primero de cada mes."
   ]
  },
  {
   "cell_type": "code",
   "execution_count": 2,
   "metadata": {},
   "outputs": [],
   "source": [
    "import os\n",
    "import numpy as np\n",
    "import pandas as pd"
   ]
  },
  {
   "cell_type": "markdown",
   "metadata": {},
   "source": [
    "Utilizaremos como ejemplo un dataset de gasto fiscal neto en Chile, obtenidos de una [datathon de DataCampfire](https://datacampfire.com/datathon/)."
   ]
  },
  {
   "cell_type": "code",
   "execution_count": 8,
   "metadata": {},
   "outputs": [
    {
     "data": {
      "text/html": [
       "<div>\n",
       "<style scoped>\n",
       "    .dataframe tbody tr th:only-of-type {\n",
       "        vertical-align: middle;\n",
       "    }\n",
       "\n",
       "    .dataframe tbody tr th {\n",
       "        vertical-align: top;\n",
       "    }\n",
       "\n",
       "    .dataframe thead th {\n",
       "        text-align: right;\n",
       "    }\n",
       "</style>\n",
       "<table border=\"1\" class=\"dataframe\">\n",
       "  <thead>\n",
       "    <tr style=\"text-align: right;\">\n",
       "      <th></th>\n",
       "      <th>anio</th>\n",
       "      <th>mes</th>\n",
       "      <th>partida</th>\n",
       "      <th>capitulo</th>\n",
       "      <th>programa</th>\n",
       "      <th>subtitulo</th>\n",
       "      <th>monto</th>\n",
       "    </tr>\n",
       "  </thead>\n",
       "  <tbody>\n",
       "    <tr>\n",
       "      <td>0</td>\n",
       "      <td>2009</td>\n",
       "      <td>Abril</td>\n",
       "      <td>Congreso Nacional</td>\n",
       "      <td>Biblioteca Del Congreso</td>\n",
       "      <td>Biblioteca Del Congreso</td>\n",
       "      <td>ADQUISICIÓN DE ACTIVOS NO FINANCIEROS</td>\n",
       "      <td>21082</td>\n",
       "    </tr>\n",
       "    <tr>\n",
       "      <td>1</td>\n",
       "      <td>2009</td>\n",
       "      <td>Abril</td>\n",
       "      <td>Congreso Nacional</td>\n",
       "      <td>Biblioteca Del Congreso</td>\n",
       "      <td>Biblioteca Del Congreso</td>\n",
       "      <td>BIENES Y SERVICIOS DE CONSUMO</td>\n",
       "      <td>152607</td>\n",
       "    </tr>\n",
       "    <tr>\n",
       "      <td>2</td>\n",
       "      <td>2009</td>\n",
       "      <td>Abril</td>\n",
       "      <td>Congreso Nacional</td>\n",
       "      <td>Biblioteca Del Congreso</td>\n",
       "      <td>Biblioteca Del Congreso</td>\n",
       "      <td>GASTOS EN PERSONAL</td>\n",
       "      <td>552668</td>\n",
       "    </tr>\n",
       "    <tr>\n",
       "      <td>3</td>\n",
       "      <td>2009</td>\n",
       "      <td>Abril</td>\n",
       "      <td>Congreso Nacional</td>\n",
       "      <td>Biblioteca Del Congreso</td>\n",
       "      <td>Biblioteca Del Congreso</td>\n",
       "      <td>INICIATIVAS DE INVERSIÓN</td>\n",
       "      <td>4741</td>\n",
       "    </tr>\n",
       "    <tr>\n",
       "      <td>4</td>\n",
       "      <td>2009</td>\n",
       "      <td>Abril</td>\n",
       "      <td>Congreso Nacional</td>\n",
       "      <td>Biblioteca Del Congreso</td>\n",
       "      <td>Proyecto Fortalecimiento Institucional</td>\n",
       "      <td>ADQUISICIÓN DE ACTIVOS NO FINANCIEROS</td>\n",
       "      <td>26107</td>\n",
       "    </tr>\n",
       "  </tbody>\n",
       "</table>\n",
       "</div>"
      ],
      "text/plain": [
       "   anio    mes            partida                 capitulo  \\\n",
       "0  2009  Abril  Congreso Nacional  Biblioteca Del Congreso   \n",
       "1  2009  Abril  Congreso Nacional  Biblioteca Del Congreso   \n",
       "2  2009  Abril  Congreso Nacional  Biblioteca Del Congreso   \n",
       "3  2009  Abril  Congreso Nacional  Biblioteca Del Congreso   \n",
       "4  2009  Abril  Congreso Nacional  Biblioteca Del Congreso   \n",
       "\n",
       "                                 programa  \\\n",
       "0                 Biblioteca Del Congreso   \n",
       "1                 Biblioteca Del Congreso   \n",
       "2                 Biblioteca Del Congreso   \n",
       "3                 Biblioteca Del Congreso   \n",
       "4  Proyecto Fortalecimiento Institucional   \n",
       "\n",
       "                               subtitulo   monto  \n",
       "0  ADQUISICIÓN DE ACTIVOS NO FINANCIEROS   21082  \n",
       "1          BIENES Y SERVICIOS DE CONSUMO  152607  \n",
       "2                     GASTOS EN PERSONAL  552668  \n",
       "3               INICIATIVAS DE INVERSIÓN    4741  \n",
       "4  ADQUISICIÓN DE ACTIVOS NO FINANCIEROS   26107  "
      ]
     },
     "execution_count": 8,
     "metadata": {},
     "output_type": "execute_result"
    }
   ],
   "source": [
    "gasto_raw = pd.read_csv(os.path.join(\"data\", \"gasto_fiscal.csv\"), sep=\";\")\n",
    "gasto_raw.head()"
   ]
  },
  {
   "cell_type": "markdown",
   "metadata": {},
   "source": [
    "Pasos a seguir:\n",
    "\n",
    "1. Renombra la columna `anio` por `year`.\n",
    "2. Crea la columna `month` utilizando el diccionario `es_month_dict` definido abajo. Hint: Usar un mapeo.\n",
    "3. Crea la columna `day` en que todos los registros sean igual a `1`.\n",
    "4. Crea la columna `dt_date` con la función `pd.to_datetime`. Lee la documentación!\n",
    "5. Finalmente, elimina las columnas `year`, `mes`, `month`, `day`."
   ]
  },
  {
   "cell_type": "code",
   "execution_count": 7,
   "metadata": {},
   "outputs": [],
   "source": [
    "es_month_dict = {\n",
    "    'enero': 1,\n",
    "    'febrero': 2,\n",
    "    'marzo': 3, \n",
    "    'abril': 4,\n",
    "    'mayo': 5,\n",
    "    'junio': 6,\n",
    "    'julio': 7,\n",
    "    'agosto': 8,\n",
    "    'septiembre': 9,\n",
    "    'octubre': 10,\n",
    "    'noviembre': 11,\n",
    "    'diciembre': 12\n",
    "}"
   ]
  },
  {
   "cell_type": "code",
   "execution_count": null,
   "metadata": {},
   "outputs": [],
   "source": [
    "gasto = (\n",
    "    gasto_raw. ## FIX ME - Renombrar columna ##\n",
    "    .assign(\n",
    "        month=lambda x: x[\"mes\"]. ## FIX ME - Map ##,\n",
    "        day=## FIX ME - Día 1  de cada mes ##,\n",
    "        dt_date=pd.to_datetime(## FIX ME ##)\n",
    "    ).drop(columns=## FIX ME ##)\n",
    ")\n",
    "gasto.head()"
   ]
  },
  {
   "cell_type": "markdown",
   "metadata": {},
   "source": [
    "## Ejercicio 2 (1 pto.)\n",
    "\n",
    "Pivotea el dataframe `gasto_raw` tal que:\n",
    "\n",
    "- Los índices sean los ministerios (partidas).\n",
    "- Las columnas sean los años.\n",
    "- Cada celda sea la suma de los montos.\n",
    "- Rellenar las celdas vacías con `\"\"`.\n",
    "\n",
    "¿Cuáles son las combinaciones de Año-Ministerio que no tienen gasto?"
   ]
  },
  {
   "cell_type": "code",
   "execution_count": null,
   "metadata": {},
   "outputs": [],
   "source": [
    "gasto_raw.pivot_table(\n",
    "    ## FIX ME ##\n",
    ")"
   ]
  },
  {
   "cell_type": "markdown",
   "metadata": {},
   "source": [
    "__Respuesta__:"
   ]
  },
  {
   "cell_type": "markdown",
   "metadata": {},
   "source": [
    "## Ejercicio 3 (1 pto.)\n",
    "\n",
    "Realiza los benchmarks del archivo `benchmark_loop.py` que se encuentra en el directorio `fast_pandas`.\n",
    "\n",
    "¿Cuál forma dirías que es la más eficiente?\n",
    "\n",
    "Utiliza el comando mágico `%load` y edita de tal manera que el módulo `Benchmarker` se importe correctamente."
   ]
  },
  {
   "cell_type": "code",
   "execution_count": null,
   "metadata": {},
   "outputs": [],
   "source": [
    "%load  ## FIX ME ##\n",
    "## FIX ME ##"
   ]
  },
  {
   "cell_type": "markdown",
   "metadata": {},
   "source": [
    "__Respuesta__:"
   ]
  }
 ],
 "metadata": {
  "celltoolbar": "Slideshow",
  "kernelspec": {
   "display_name": "Python [conda env:ds]",
   "language": "python",
   "name": "conda-env-ds-py"
  },
  "language_info": {
   "codemirror_mode": {
    "name": "ipython",
    "version": 3
   },
   "file_extension": ".py",
   "mimetype": "text/x-python",
   "name": "python",
   "nbconvert_exporter": "python",
   "pygments_lexer": "ipython3",
   "version": "3.7.3"
  }
 },
 "nbformat": 4,
 "nbformat_minor": 4
}
