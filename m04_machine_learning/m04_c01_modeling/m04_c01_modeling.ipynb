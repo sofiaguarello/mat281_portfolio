{
 "cells": [
  {
   "cell_type": "markdown",
   "metadata": {
    "Collapsed": "false",
    "slideshow": {
     "slide_type": "slide"
    }
   },
   "source": [
    "<img src=\"https://upload.wikimedia.org/wikipedia/commons/4/47/Logo_UTFSM.png\" width=\"200\" alt=\"utfsm-logo\" align=\"left\"/>\n",
    "\n",
    "# MAT281\n",
    "### Aplicaciones de la Matemática en la Ingeniería"
   ]
  },
  {
   "cell_type": "markdown",
   "metadata": {
    "Collapsed": "false",
    "slideshow": {
     "slide_type": "slide"
    }
   },
   "source": [
    "## Módulo 04\n",
    "## Clase 01: Modelamiento"
   ]
  },
  {
   "cell_type": "markdown",
   "metadata": {
    "Collapsed": "false",
    "slideshow": {
     "slide_type": "slide"
    }
   },
   "source": [
    "## Objetivos\n",
    "\n",
    "* Comprender el concepto de _Machine Learning_\n",
    "* Conocer el proceso de modelamiento."
   ]
  },
  {
   "cell_type": "markdown",
   "metadata": {
    "Collapsed": "false",
    "slideshow": {
     "slide_type": "subslide"
    }
   },
   "source": [
    "## Contenidos\n",
    "* [¿Qué es el Machine Learning?](#about_ml)\n",
    "* [Aplicaciones](#examples)\n",
    "* [Modelamiento](#modeling)\n",
    "    - [Debriefing](#debriefing)\n",
    "    - [Fuentes de Error](#error_sources)\n",
    "* [Algoritmos ML](#ml_algorithms)"
   ]
  },
  {
   "cell_type": "markdown",
   "metadata": {
    "Collapsed": "false",
    "slideshow": {
     "slide_type": "slide"
    }
   },
   "source": [
    "<a id='about_ml'></a>\n",
    "## ¿Qué es el Machine Learning?\n",
    "\n",
    "Partiremos la clase definiendo algunos conceptos que suelen relacionar con Machine Learning, tales como Data Science, Inteligencia Artificial o Big Data."
   ]
  },
  {
   "cell_type": "markdown",
   "metadata": {
    "Collapsed": "false",
    "slideshow": {
     "slide_type": "slide"
    }
   },
   "source": [
    "#### Machine Learning\n",
    "\n",
    "_Machine learning algorithms can figure out how to perform important tasks by generalizing from examples. This is often feasible and cost-effective where manual programming is not. As more data becomes available, more ambitious problems can be tackled  (Pedro Domingos: [A Few Useful Things to Know about Machine Learning](https://homes.cs.washington.edu/~pedrod/papers/cacm12.pdf))._\n",
    "\n",
    "-   Estudia y construye sistemas que pueden aprender de los datos, más\n",
    "    que seguir instrucciones explícitamente programadas.\n",
    "\n",
    "-   Machine Learning es un conjunto de técnicas y modelos que permiten\n",
    "    el modelamiento predictivo de datos, reunidas a partir de la\n",
    "    intersección de elementos de probabilidad, estadística e\n",
    "    inteligencia artificial.\n",
    "\n",
    "-   Típicamente, alguien que trabaja en Machine Learning está en la Academia y busca realizar investigación y publicar artículos.\n",
    "\n",
    "-   Pregunta fundamental:\n",
    "    ¿Qué conocimiento emerge a partir de los datos? ¿Qué modelo/técnica\n",
    "    otorga la mejor predicción para estos datos?\n",
    "    \n"
   ]
  },
  {
   "cell_type": "markdown",
   "metadata": {
    "Collapsed": "false",
    "slideshow": {
     "slide_type": "slide"
    }
   },
   "source": [
    "#### Data Science\n",
    "\n",
    "-   Se preocupa de la practicidad de resolver problemas complejos\n",
    "    utilizando datos.\n",
    "\n",
    "-   Data Science es la aplicación de diversas técnicas de modelamiento con un fin específico. También se conoce como eScience.\n",
    "\n",
    "-   La base de datos a utilizar no ha sido necesariamente creada.\n",
    "\n",
    "-   Típicamente, un data scientist se encuentra en la industria, buscando automatizar un análisis complejo para un cliente (interno o externo).\n",
    "\n",
    "-   Pregunta fundamental:\n",
    "    ¿Qué puedo decir de **X** a partir de los datos?"
   ]
  },
  {
   "cell_type": "markdown",
   "metadata": {
    "Collapsed": "false"
   },
   "source": [
    "#### Inteligencia Artificial\n",
    "\n",
    "- Tiene por objetivo hacer que el computador ejecute tareas para las cuales el hombre, en un contexto dado, es actualmente mejor que la máquina.\n",
    "\n",
    "- Es un concepto más amplio que Machine Learning, en el sentido de definir el concepto de _inteligencia_.\n",
    "\n",
    "- Algunos enfoques de inteligencia considerean que tiene que ver principalmente con acciones racionales. Que un agente inteligente es capaz de percibir y actuar, realizando la mejor acción posible en una situación dada. \n",
    "\n",
    "-   Pregunta fundamental:\n",
    "    ¿Puedo modelar el problema pero que su resolución no es razonablemente factible por algoritmos existentes?"
   ]
  },
  {
   "cell_type": "markdown",
   "metadata": {
    "Collapsed": "false",
    "slideshow": {
     "slide_type": "slide"
    }
   },
   "source": [
    "#### Big Data\n",
    "- Caracterizado por 4 V:\n",
    "    * **Volumen**: ¿Cuántos datos se requiere procesar? ¿Terabytes, Exabytes, Zettabytes?\n",
    "    * **Variedad**: ¿Qué patrón siguen los datos? ¿SQL o noSQL?\n",
    "    * **Velocidad**: ¿Con que velocidad podemos procesar los datos? ¿A qué velocidad se generan?\n",
    "    * **Veracidad**: ¿Qué tan confiables son los datos? \n",
    "-   Pregunta fundamental:\n",
    "    ¿Cómo proceso esta monstruosidad de datos?"
   ]
  },
  {
   "cell_type": "markdown",
   "metadata": {
    "Collapsed": "false"
   },
   "source": [
    "También es usual ver en LinkedIn, foros y/o blogs una serie de infografías tratando de definir o separar conceptos. Al no existir límites fijos, estas infografías suelen variar entre autores. **No creas todo lo que ves.**\n",
    "\n",
    "My oinión personal: No todo lo que brilla es oro. No soy fan de estas infografías o diagramas."
   ]
  },
  {
   "cell_type": "markdown",
   "metadata": {
    "Collapsed": "false"
   },
   "source": [
    "<img src=\"images/ML.png\" alt=\"\" width=\"800\" align=\"middle\"/>\n",
    "¿Estadística separada de Machine Learning? No lo creo\n",
    "\n",
    "<img src=\"images/DS1.png\" alt=\"\" width=\"600\" align=\"middle\"/>\n",
    "<img src=\"images/DS2.png\" alt=\"\" width=\"800\" align=\"middle\"/>"
   ]
  },
  {
   "cell_type": "markdown",
   "metadata": {
    "Collapsed": "false",
    "slideshow": {
     "slide_type": "slide"
    }
   },
   "source": [
    "<a id='examples'></a>\n",
    "## Aplicaciones"
   ]
  },
  {
   "cell_type": "markdown",
   "metadata": {
    "Collapsed": "false",
    "slideshow": {
     "slide_type": "slide"
    }
   },
   "source": [
    "\n",
    "### 1. Detección de Spam\n",
    "A partir de correos previamente clasificados como spam y no-spam,\n",
    "identificar futuros correos en spam de aquellos que no son spam.\n",
    "\n",
    "<img src=\"images/spam.jpg\" alt=\"\" width=\"400\" align=\"middle\"/>"
   ]
  },
  {
   "cell_type": "markdown",
   "metadata": {
    "Collapsed": "false",
    "slideshow": {
     "slide_type": "slide"
    }
   },
   "source": [
    "### 2. Detección de Fraude con Tarjeta de crédito\n",
    "\n",
    "Dado el historial de transacciones de un cliente en un mes, identificar\n",
    "transacciones que realizadas por el cliente y transacciones fraudulentas\n",
    "realizadas por terceros.\n",
    "\n",
    "<img src=\"images/creditcard.jpg\" alt=\"\" width=\"400\" align=\"middle\"/>"
   ]
  },
  {
   "cell_type": "markdown",
   "metadata": {
    "Collapsed": "false",
    "slideshow": {
     "slide_type": "slide"
    }
   },
   "source": [
    "### 3. Reconocimiento de dígitos\n",
    "\n",
    "Dado un código zip escrito en un sobre, identificar cada dígito\n",
    "manuscrito para automatizar la clasificación y despacho de correo.\n",
    "\n",
    "<img src=\"images/digits.png\" alt=\"\" width=\"400\" align=\"middle\"/>"
   ]
  },
  {
   "cell_type": "markdown",
   "metadata": {
    "Collapsed": "false",
    "slideshow": {
     "slide_type": "slide"
    }
   },
   "source": [
    "### 4. Reconocimiento de Voz\n",
    "\n",
    "Dada una orden vocal de un usuario, idenficar el requerimiento específico realizado.\n",
    "\n",
    "<img src=\"images/speechrecognition.png\" alt=\"\" width=\"600\" align=\"middle\"/>"
   ]
  },
  {
   "cell_type": "markdown",
   "metadata": {
    "Collapsed": "false",
    "slideshow": {
     "slide_type": "slide"
    }
   },
   "source": [
    "### 5. Detección de Caras\n",
    "\n",
    "Dada una colección de fotos digitales, identificar en cuáles fotos y en\n",
    "qué sectores aparece una persona. Más difícil, dada una colección de\n",
    "fotos etiquetadas para una cierta persona, identificar en cuales fotos\n",
    "aparece esa persona.\n",
    "\n",
    "<img src=\"images/facedetection.jpg\" alt=\"\" width=\"400\" align=\"middle\"/>"
   ]
  },
  {
   "cell_type": "markdown",
   "metadata": {
    "Collapsed": "false",
    "slideshow": {
     "slide_type": "slide"
    }
   },
   "source": [
    "### 6. Recomendación de Productos \n",
    "\n",
    "Dado un historial de compra para un cliente y un largo inventario de\n",
    "productos, identificar cuáles productos pueden interesarle al cliente en\n",
    "su próxima compra.\n",
    "\n",
    "<img src=\"images/productrecommendation.png\" alt=\"\" width=\"800\" align=\"middle\"/>"
   ]
  },
  {
   "cell_type": "markdown",
   "metadata": {
    "Collapsed": "false",
    "slideshow": {
     "slide_type": "slide"
    }
   },
   "source": [
    "### 7. Diagnóstico médico\n",
    "\n",
    "Dado un conjunto de síntomas exhibidos por un paciente y una base de\n",
    "casos anónima, predecir si el paciente tiene una enfermedad (y cuál).\n",
    "\n",
    "<img src=\"images/medicaldiagnosis.jpg\" alt=\"\" width=\"600\" align=\"middle\"/>"
   ]
  },
  {
   "cell_type": "markdown",
   "metadata": {
    "Collapsed": "false",
    "slideshow": {
     "slide_type": "slide"
    }
   },
   "source": [
    "### 8. Mercado de acciones\n",
    "\n",
    "Dadas las fluctuaciones pasadas y presentes de una cierta acción,\n",
    "predecir si la acción debe comprarse, mantenerse o venderse.\n",
    "\n",
    "<img src=\"images/stocktrading.jpg\" alt=\"\" width=\"400\" align=\"middle\"/>"
   ]
  },
  {
   "cell_type": "markdown",
   "metadata": {
    "Collapsed": "false",
    "slideshow": {
     "slide_type": "slide"
    }
   },
   "source": [
    "### 9. Segmentación de Mercado\n",
    "\n",
    "Dado un historial de comportamientos pasados de clientes, identificar\n",
    "cuáles clientes exhibirán un cierto comportamiento (de compra) en el\n",
    "futuro.\n",
    "\n",
    "<img src=\"images/customersegmentation.jpg\" alt=\"\" width=\"400\" align=\"middle\"/>"
   ]
  },
  {
   "cell_type": "markdown",
   "metadata": {
    "Collapsed": "false",
    "slideshow": {
     "slide_type": "slide"
    }
   },
   "source": [
    "### 10. Detección de Formas\n",
    "\n",
    "Reconocer una forma (2D o 3D) a partir de una muestra 2D de baja calidad.\n",
    "\n",
    "<img src=\"images/shapedetection.jpg\" alt=\"\" width=\"400\" align=\"middle\"/>"
   ]
  },
  {
   "cell_type": "markdown",
   "metadata": {
    "Collapsed": "false",
    "slideshow": {
     "slide_type": "slide"
    }
   },
   "source": [
    "<a id='modeling'></a>\n",
    "## Modelamiento\n",
    "\n",
    "### ¿Qué es un modelo?\n",
    "\n",
    "- Un modelo es\n",
    "    * Una representación abstracta y conveniente de un sistema.\n",
    "    * Una simplificación del mundo real.\n",
    "    * Un medio de exploración y de explicación para nuestro entendimiento de la realidad.\n",
    "- Un modelo NO es\n",
    "    * Igual al mundo real.\n",
    "    * Un sustituto para mediciones o experimentos.\n",
    "    \n",
    "### ¿Por qué utilizar módelos?\n",
    "\n",
    "* Permiten reproducir escalas temporales o espaciales donde las mediciones o los experimentos son costosos, difíciles o imposibles.\n",
    "    - Ejemplo: deriva continental, impacto de asteroides, evolución de enfermedades, etc.\n",
    "* Es mejor que no hacer nada o confiar en juicios dudosos de terceros.\n",
    "    - Ejemplo: Predicción meteorológica versus danza de la lluvia.\n",
    "    \n",
    "### Objetivos del modelamiento\n",
    "\n",
    "* Ayudar al diseño de experimentos y mediciones.\n",
    "* Condensar entendimiento al forzar la abstracción, integración y formalización de ideas científicas.\n",
    "* Permitir la realización de experimentos virtuales.\n",
    "* Divulgar conocimiento científico a no-expertos.\n",
    "* Realizar predicciones.\n",
    "\n",
    "***El modelamiento nunca es un objetivo en sí mismo.***\n",
    "\n",
    "### Algunos principios básicos\n",
    "\n",
    "1. Un mismo fenómeno físico puede tener distintos modelos, cada uno apropiado para el estudio de un cierto aspecto del fenómeno.\n",
    "2. Modelamiento require tiempo: es necesario determinar el nivel de complejidad en función los resultados deseados y del tiempo disponible.\n",
    "3. GIGO: Garbage In = Garbage Out: Un buen modelo no compensa malos datos de entrada.\n",
    "4. El mundo es demasiado complejo para poder modelarlo perfectamente.\n",
    "5. Todo modelo es una simplificación de la realidad.\n",
    "6. Modelos complementan otras formas de conocimiento (experimentos, mediciones)\n",
    "7. Que algo se pueda simular, no significa que se corresponda con la realidad.\n",
    "8. Validación completa del un modelo es imposible, al igual que cualquier teoría."
   ]
  },
  {
   "cell_type": "markdown",
   "metadata": {
    "Collapsed": "false",
    "slideshow": {
     "slide_type": "slide"
    }
   },
   "source": [
    "    \"All models are wrong, \n",
    "    some are useful\" - George Box\""
   ]
  },
  {
   "cell_type": "markdown",
   "metadata": {
    "Collapsed": "false",
    "slideshow": {
     "slide_type": "slide"
    }
   },
   "source": [
    "###  Etapas del Modelamiento\n",
    "1. ***Meta***: Definir el propósito del modelo.\n",
    "2. ***Modelar***: Desarrollar el modelo conceptual.\n",
    "3. ***Afinar***: Seleccionar el tipo de modelo y la escala. \n",
    "4. ***Implementar***: Realizar la implementación numérica del modelo conceptual.\n",
    "5. ***Calibrar***: Estimar los parámetros requeridos por el modelo.\n",
    "6. ***Analizar***: Evaluar el modelo con análisis de sensitividad e incertidumbre.\n",
    "7. ***Validar***: Comparar las predicciones del modelo con mediciones reales. Requiere parámetros y mediciones reales.\n",
    "8. ***Utilizar***: Aplicar el modelo al propósito. Requiere parámetros reales.\n",
    "\n",
    "<img src=\"images/ModelComplexity1.png\" alt=\"\" width=\"800px\" align=\"middle\"/>"
   ]
  },
  {
   "cell_type": "markdown",
   "metadata": {
    "Collapsed": "false",
    "slideshow": {
     "slide_type": "slide"
    }
   },
   "source": [
    "    \"Everyone believes the recorded data, \n",
    "    except the scientist that record it.\n",
    "    No one believes the model, \n",
    "    except for the scientist that created it.\" \n",
    "    - Unknown\n"
   ]
  },
  {
   "cell_type": "markdown",
   "metadata": {
    "Collapsed": "false",
    "slideshow": {
     "slide_type": "slide"
    }
   },
   "source": [
    "    \"If you're doing an experiment, \n",
    "    you should report everything \n",
    "    that you think might make it invalid — \n",
    "    not only what you think is right about it;\n",
    "    other causes that could possibly explain\n",
    "    your results; and things you thought \n",
    "    of that you've eliminated by some \n",
    "    other experiment, and how they worked — \n",
    "    to make sure the other fellow \n",
    "    can tell they have been eliminated.\"\n",
    "    - Richard Feynman."
   ]
  },
  {
   "cell_type": "markdown",
   "metadata": {
    "Collapsed": "false"
   },
   "source": [
    "<a id='debriefing'></a>\n",
    "### Debriefing\n",
    "\n",
    "El Debriefing es un proceso semi-estructurado, que permite analizar una cierta actividad que ha sido llevada a cabo. Se realiza una serie de preguntas que permite que los participantes refleccionen en lo\n",
    "ocurrido, los resultados y metas, para mejorar el desempeño futuro.\n",
    "\n",
    "Durante la vida universitaria se puede utilizar en situaciones coloquiales.\n",
    "\n",
    "* Certámenes y Tareas:\n",
    " - ¿Cuál era la solución correcta?\n",
    " - ¿Porqué no llegué a la solución?\n",
    " - ¿Cómo debería haber estudiado para optimizar mi nota?\n",
    "* Proyectos en grupo:\n",
    "  - ¿Existieron problemas en el grupo?\n",
    "  - ¿Qué podría haberse hecho de mejor forma?\n",
    "  - ¿Cómo fue la interacción entre los integrantes?\n",
    "  - ¿Estamos conformes con el resultado dado el tiempo invertido?\n",
    "\n",
    "Debriefing no altera resultados pasados, pero permite mejorar incrementalmente y detectar errores metodológicos.\n",
    "\n",
    "<img src=\"images/Modelamiento.png\" alt=\"\" width=\"800px\" align=\"middle\"/>"
   ]
  },
  {
   "cell_type": "markdown",
   "metadata": {
    "Collapsed": "false"
   },
   "source": [
    "<a id='error_sources'></a>\n",
    "### Fuentes de Error\n",
    "\n",
    "Existen múltiples fuentes de error:\n",
    "* Humana\n",
    "* Instrumental\n",
    "\n",
    "\n",
    "Algo importante a considerar es que toda medición es siempre indirecta. Lo que se mide no es necesariamente lo que se necesita. Por ejemplo:\n",
    "\n",
    "* **Longitud**: comparación directa (regla), comparación indirecta (sensor laser).\n",
    "* **Temperatura**: mediante dilatación (termómetro tradicional), cambio de densidad (termómetro de Galileo), o cambio de resistencia eléctrica (termómetro digital).\n",
    "\n",
    "#### Fuente de Error Humana\n",
    "\n",
    "La definición del problema a resolver está dado por el cliente, y la respuesta contiene:\n",
    "* Deformación profesional.\n",
    "* Expectativas a priori.\n",
    "* Confianza infinita (o nula) en los métodos numéricos.\n",
    "\n",
    "#### Fuente de Error debido a la Incerteza en Parámetros\n",
    "\n",
    "Los parámetros rara vez se conocen con buena precisión, incluso cuando el modelo físico-matemático ha sido bien definido. Por ello, siempre es necesario tomar un enfoque **conservador** en la incerteza de los parámetros involucrados dependiendo de la aplicación del modelo.\n",
    "\n",
    "Por ejemplo, en el caso de minería subterránea:\n",
    "\n",
    "* Si el problema involucra seguridad en los túneles mineros, se  utiliza un modelo conservador que **subestima** los parámetros físicos de la roca: : la roca del modelo es menos resistente que en la realidad. Si el modelo indica que el túnel es resistente, tenemos confianza que en la realidad el tunel es seguro.\n",
    "\n",
    "* Si el problema involucra factibilidad de la técnica extractiva, se utiliza un modelo que **sobreestima** los parámetros físicos de la roca: la roca del modelo es más resistente que en la realidad. Si el modelo indica que la roca se quiebra adecuadamente durante el caving, tenemos confianza que la roca se quiebra durante el caving.\n",
    "\n",
    "Otro tema a considerar es que los modelos nunca tienen precisión infinita. Por ejemplo, en minería:\n",
    "- Si consideramos que los parámetros físicos de la roca son constantes en todo el dominio en análisis, no se considera las variaciones que existen naturalmente.\n",
    "- Si consideramos que los parámetros físicos de la roca varían punto a punto en todo el dominio de análisis, es necesario conocer dicho valor, lo cual resulta imposible de mapear tridimensionalmente.\n",
    "\n",
    "#### Errores Humanos\n",
    "\n",
    "* **Medición**: Falta de apego a protocolos e imprecisión.\n",
    "* **Modelamiento Matemático**: Errores conceptuales, de unidades, de condiciones de frontera o características de la problemática. Para quien tiene un martillo, todo parece un clavo.\n",
    "* **Modelamiento Numérico**: La discretización de un sistema de ecuaciones introduce un error que suele olvidarse.\n",
    "* **Implementación Numérica**:  Testeo deficiente permite que bugs permanezcan ocultos en la implementación.\n",
    "* **Interpretación**: Confianza ciega en la caja negra."
   ]
  },
  {
   "cell_type": "markdown",
   "metadata": {
    "Collapsed": "false"
   },
   "source": [
    "<a id='ml_algorithms'></a>\n",
    "## Algoritmos ML\n",
    "\n",
    "Hay 4 grandes familias de problemas en Machine Learning:\n",
    "\n",
    "- **Clasificación**\n",
    "- **Regresión**\n",
    "- **Clustering**\n",
    "- **Extracción de Reglas**\n",
    "\n",
    "### Algoritmos de Clasificación\n",
    "\n",
    "Se conocen como están etiquetados (asignados a una clase) algunos de los elementos.\n",
    "El desafío es asignar la etiqueta correcta a datos sin etiquetar.\n",
    "\n",
    "Ejemplos:\n",
    "1.  Clasificación de Spam.\n",
    "2.  Clasificación de Fraudes.\n",
    "3.  Reconocimiento de Dígitos\n",
    "4.  Diágnostico Médico.\n",
    "\n",
    "### Algoritmos de Clustering\n",
    "\n",
    "Los datos no se encuentran etiquetados (no existe un valor $y$ para\n",
    "predecir), pero se busca dividir el conjunto de datos basados en alguna\n",
    "medida de similaridad o estructura de los datos.\n",
    "El desafío es encontrar cómo se podrían separar los datos a partir de\n",
    "sus datos sin saber cómo ni porqué se podrían separar.\n",
    "\n",
    "Ejemplos:\n",
    "1.  Ordenar fotos según persona que aparece en rostros.\n",
    "2.  Segmentación de mercados.\n",
    "3.  Compresión de información.\n",
    "\n",
    "#### Algoritmos de Regresión\n",
    "\n",
    "Similar a clustering, pero donde los datos están etiquetados con un valor real. El desafío es asignar la etiqueta correcta a datos sin etiquetar.\n",
    "\n",
    "Ejemplos:\n",
    "1.  Predicción de precio en mercado de acciones.\n",
    "2.  Predicción de precio de casa/departamento basado en características.\n",
    "\n",
    "### Algoritmos de Extracción de Reglas\n",
    "\n",
    "Los datos se usan para la extracción de reglas o relaciones previamente\n",
    "desconocidas entre los datos. A menudo no existe una relación predictiva\n",
    "entre los datos, sino que simplemente existe una relación no causal\n",
    "entre los atributos de los datos. \n",
    "El desafío es encontrar las relaciones no predictivas entre los datos,\n",
    "sin conocerlas a priori.\n",
    "\n",
    "Ejemplos:\n",
    "1.  Reconocimiento de Voz.\n",
    "2.  Recomendación de Productos.\n",
    "\n",
    "¡Existe un sitio con una animación increíble!: [http://www.r2d3.us/](http://www.r2d3.us/una-introduccion-visual-al-machine-learning-1/)"
   ]
  },
  {
   "cell_type": "markdown",
   "metadata": {
    "Collapsed": "false",
    "slideshow": {
     "slide_type": "slide"
    }
   },
   "source": [
    "#### Consejos\n",
    "\n",
    "Excelente artículo de Pedro Domingos: [A Few Useful Things to Know about Machine Learning](https://homes.cs.washington.edu/~pedrod/papers/cacm12.pdf).\n",
    "\n",
    "1. Learning = Representation + Evaluation + Optimization\n",
    "2. La meta fundamental es generalizar a partir de los ejemplos.\n",
    "3. Sólo tener datos no es suficiente.\n",
    "4. Cuidado con overfitting en el modelo.\n",
    "5. La intuición es difícil en grandes dimensiones."
   ]
  }
 ],
 "metadata": {
  "celltoolbar": "Slideshow",
  "kernelspec": {
   "display_name": "Python 3",
   "language": "python",
   "name": "python3"
  },
  "language_info": {
   "codemirror_mode": {
    "name": "ipython",
    "version": 3
   },
   "file_extension": ".py",
   "mimetype": "text/x-python",
   "name": "python",
   "nbconvert_exporter": "python",
   "pygments_lexer": "ipython3",
   "version": "3.7.3"
  }
 },
 "nbformat": 4,
 "nbformat_minor": 4
}
