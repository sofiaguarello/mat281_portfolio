{
 "cells": [
  {
   "cell_type": "markdown",
   "metadata": {
    "Collapsed": "false",
    "slideshow": {
     "slide_type": "slide"
    }
   },
   "source": [
    "<img src=\"https://upload.wikimedia.org/wikipedia/commons/4/47/Logo_UTFSM.png\" width=\"200\" alt=\"utfsm-logo\" align=\"left\"/>\n",
    "\n",
    "# MAT281\n",
    "### Aplicaciones de la Matemática en la Ingeniería"
   ]
  },
  {
   "cell_type": "markdown",
   "metadata": {
    "Collapsed": "false",
    "slideshow": {
     "slide_type": "slide"
    }
   },
   "source": [
    "## Módulo 04\n",
    "## Laboratorio Clase 04: Métricas y selección de modelos"
   ]
  },
  {
   "cell_type": "markdown",
   "metadata": {
    "Collapsed": "false"
   },
   "source": [
    "### Instrucciones\n",
    "\n",
    "\n",
    "* Completa tus datos personales (nombre y rol USM) en siguiente celda.\n",
    "* La escala es de 0 a 4 considerando solo valores enteros.\n",
    "* Debes _pushear_ tus cambios a tu repositorio personal del curso.\n",
    "* Como respaldo, debes enviar un archivo .zip con el siguiente formato `mXX_cYY_lab_apellido_nombre.zip` a alonso.ogueda@gmail.com, debe contener todo lo necesario para que se ejecute correctamente cada celda, ya sea datos, imágenes, scripts, etc.\n",
    "* Se evaluará:\n",
    "    - Soluciones\n",
    "    - Código\n",
    "    - Que Binder esté bien configurado.\n",
    "    - Al presionar  `Kernel -> Restart Kernel and Run All Cells` deben ejecutarse todas las celdas sin error."
   ]
  },
  {
   "cell_type": "markdown",
   "metadata": {
    "Collapsed": "false"
   },
   "source": [
    "__Nombre__:\n",
    "\n",
    "__Rol__:"
   ]
  },
  {
   "cell_type": "markdown",
   "metadata": {
    "Collapsed": "false"
   },
   "source": [
    "En este laboratorio utilizaremos el conjunto de datos _Abolone_. "
   ]
  },
  {
   "cell_type": "markdown",
   "metadata": {
    "Collapsed": "false"
   },
   "source": [
    "**Recuerdo**\n",
    "\n",
    "La base de datos contiene mediciones a 4177 abalones, donde las mediciones posibles son sexo ($S$), peso entero $W_1$, peso sin concha $W_2$, peso de visceras $W_3$, peso de concha  $W_4$, largo ($L$), diametro $D$, altura $H$, y el número de anillos $A$. "
   ]
  },
  {
   "cell_type": "code",
   "execution_count": null,
   "metadata": {
    "Collapsed": "false"
   },
   "outputs": [],
   "source": [
    "import pandas as pd\n",
    "import numpy as np"
   ]
  },
  {
   "cell_type": "code",
   "execution_count": null,
   "metadata": {
    "Collapsed": "false"
   },
   "outputs": [],
   "source": [
    "abalone = pd.read_csv(\n",
    "    \"data/abalone.data\",\n",
    "    header=None,\n",
    "    names=[\"sex\", \"length\", \"diameter\", \"height\", \"whole_weight\", \"shucked_weight\", \"viscera_weight\", \"shell_weight\", \"rings\"]\n",
    ")\n",
    "\n",
    "abalone_data = (\n",
    "    abalone.assign(sex=lambda x: x[\"sex\"].map({\"M\": 1, \"I\": 0, \"F\": -1}))\n",
    "    .loc[lambda x: x.drop(columns=\"sex\").gt(0).all(axis=1)]\n",
    "    .astype(np.float)\n",
    ")\n",
    "abalone_data.head()"
   ]
  },
  {
   "cell_type": "markdown",
   "metadata": {
    "Collapsed": "false"
   },
   "source": [
    "#### Modelo A\n",
    "Consideramos 9 parámetros, llamados $\\alpha_i$, para el siguiente modelo:\n",
    "$$ \\log(A) = \\alpha_0 +  \\alpha_1 W_1 + \\alpha_2 W_2 +\\alpha_3 W_3 +\\alpha_4 W_4 + \\alpha_5 S + \\alpha_6 \\log L + \\alpha_7 \\log D+  \\alpha_8 \\log H$$"
   ]
  },
  {
   "cell_type": "code",
   "execution_count": null,
   "metadata": {
    "Collapsed": "false"
   },
   "outputs": [],
   "source": [
    "def train_model_A(data):\n",
    "    y = np.log(data.loc[:, \"rings\"].values.ravel())\n",
    "    X = (\n",
    "        data.assign(\n",
    "            intercept=1.,\n",
    "            length=lambda x: x[\"length\"].apply(np.log),\n",
    "            diameter=lambda x: x[\"diameter\"].apply(np.log),\n",
    "            height=lambda x: x[\"height\"].apply(np.log),\n",
    "        )\n",
    "        .loc[: , [\"intercept\", \"whole_weight\", \"shucked_weight\", \"viscera_weight\", \"shell_weight\", \"sex\", \"length\", \"diameter\", \"height\"]]\n",
    "        .values\n",
    "    )\n",
    "    coeffs = np.linalg.lstsq(X, y, rcond=None)[0]\n",
    "    return coeffs\n",
    "\n",
    "def test_model_A(data, coeffs):\n",
    "    X = (\n",
    "        data.assign(\n",
    "            intercept=1.,\n",
    "            length=lambda x: x[\"length\"].apply(np.log),\n",
    "            diameter=lambda x: x[\"diameter\"].apply(np.log),\n",
    "            height=lambda x: x[\"height\"].apply(np.log),\n",
    "        )\n",
    "        .loc[: , [\"intercept\", \"whole_weight\", \"shucked_weight\", \"viscera_weight\", \"shell_weight\", \"sex\", \"length\", \"diameter\", \"height\"]]\n",
    "        .values\n",
    "    )\n",
    "    ln_anillos = np.dot(X, coeffs)\n",
    "    return np.exp(ln_anillos)"
   ]
  },
  {
   "cell_type": "markdown",
   "metadata": {
    "Collapsed": "false"
   },
   "source": [
    "#### Modelo B\n",
    "Consideramos 6 parámetros, llamados $\\beta_i$, para el siguiente modelo:\n",
    "$$ \\log(A) = \\beta_0 + \\beta_1 W_1 + \\beta_2 W_2 +\\beta_3 W_3 +\\beta W_4 + \\beta_5 \\log( L  D H ) $$"
   ]
  },
  {
   "cell_type": "code",
   "execution_count": null,
   "metadata": {
    "Collapsed": "false"
   },
   "outputs": [],
   "source": [
    "def train_model_B(data):\n",
    "    y = np.log(data.loc[:, \"rings\"].values.ravel())\n",
    "    X = (\n",
    "        data.assign(\n",
    "            intercept=1.,\n",
    "            ldh=lambda x: (x[\"length\"] * x[\"diameter\"] * x[\"height\"]).apply(np.log),\n",
    "        )\n",
    "        .loc[: , [\"intercept\", \"whole_weight\", \"shucked_weight\", \"viscera_weight\", \"shell_weight\", \"ldh\"]]\n",
    "        .values\n",
    "    )\n",
    "    coeffs = np.linalg.lstsq(X, y, rcond=None)[0]\n",
    "    return coeffs\n",
    "\n",
    "def test_model_B(data, coeffs):\n",
    "    X = (\n",
    "        data.assign(\n",
    "            intercept=1.,\n",
    "            ldh=lambda x: (x[\"length\"] * x[\"diameter\"] * x[\"height\"]).apply(np.log),\n",
    "        )\n",
    "        .loc[: , [\"intercept\", \"whole_weight\", \"shucked_weight\", \"viscera_weight\", \"shell_weight\", \"ldh\"]]\n",
    "        .values\n",
    "    )\n",
    "    ln_anillos = np.dot(X, coeffs)\n",
    "    return np.exp(ln_anillos)"
   ]
  },
  {
   "cell_type": "markdown",
   "metadata": {
    "Collapsed": "false"
   },
   "source": [
    "#### Modelo C\n",
    "Consideramos 12 parámetros, llamados $\\theta_i^{k}$, con $k \\in \\{M, F, I\\}$, para el siguiente modelo:\n",
    "\n",
    "Si $S=male$:\n",
    "$$ \\log(A) = \\theta_0^M + \\theta_1^M W_2  + \\theta_2^M W_4 + \\theta_3^M \\log( L  D H ) $$\n",
    "\n",
    "Si $S=female$\n",
    "$$ \\log(A) = \\theta_0^F + \\theta_1^F W_2  + \\theta_2^F W_4 + \\theta_3^F \\log( L  D H ) $$\n",
    "\n",
    "Si $S=indefined$\n",
    "$$ \\log(A) = \\theta_0^I + \\theta_1^I W_2  + \\theta_2^I W_4 + \\theta_3^I \\log( L  D H ) $$"
   ]
  },
  {
   "cell_type": "code",
   "execution_count": null,
   "metadata": {
    "Collapsed": "false"
   },
   "outputs": [],
   "source": [
    "def train_model_C(data):\n",
    "    df = (\n",
    "        data.assign(\n",
    "            intercept=1.,\n",
    "            ldh=lambda x: (x[\"length\"] * x[\"diameter\"] * x[\"height\"]).apply(np.log),\n",
    "        )\n",
    "        .loc[: , [\"intercept\", \"shucked_weight\", \"shell_weight\", \"ldh\", \"sex\", \"rings\"]]\n",
    "    )\n",
    "    coeffs_dict = {}\n",
    "    for sex, df_sex in df.groupby(\"sex\"):\n",
    "        X = df_sex.drop(columns=[\"sex\", \"rings\"])\n",
    "        y = np.log(df_sex[\"rings\"].values.ravel())\n",
    "        coeffs_dict[sex] = np.linalg.lstsq(X, y, rcond=None)[0]\n",
    "    return coeffs_dict\n",
    "\n",
    "def test_model_C(data, coeffs_dict):\n",
    "    df = (\n",
    "        data.assign(\n",
    "            intercept=1.,\n",
    "            ldh=lambda x: (x[\"length\"] * x[\"diameter\"] * x[\"height\"]).apply(np.log),\n",
    "        )\n",
    "        .loc[: , [\"intercept\", \"shucked_weight\", \"shell_weight\", \"ldh\", \"sex\", \"rings\"]]\n",
    "    )\n",
    "    pred_dict = {}\n",
    "    for sex, df_sex in df.groupby(\"sex\"):\n",
    "        X = df_sex.drop(columns=[\"sex\", \"rings\"])\n",
    "        ln_anillos = np.dot(X, coeffs_dict[sex])\n",
    "        pred_dict[sex] = np.exp(ln_anillos)\n",
    "    return pred_dict"
   ]
  },
  {
   "cell_type": "markdown",
   "metadata": {
    "Collapsed": "false"
   },
   "source": [
    "### 1. Split Data (1 pto)\n",
    "\n",
    "Crea dos dataframes, uno de entrenamiento (80% de los datos) y otro de test (20% restante de los datos) a partir de `abalone_data`.\n",
    "\n",
    "_Hint:_ `sklearn.model_selection.train_test_split` funciona con dataframes!"
   ]
  },
  {
   "cell_type": "code",
   "execution_count": null,
   "metadata": {
    "Collapsed": "false"
   },
   "outputs": [],
   "source": [
    "from sklearn.model_selection import ## FIX ME PLEASE ##\n",
    "\n",
    "abalone_train, abalone_test = ## FIX ME PLEASE ##\n",
    "abalone_train.head()"
   ]
  },
  {
   "cell_type": "markdown",
   "metadata": {
    "Collapsed": "false"
   },
   "source": [
    "### 2. Entrenamiento (1 pto)\n",
    "\n",
    "Utilice las funciones de entrenamiento definidas más arriba con tal de obtener los coeficientes para los datos de entrenamiento. Recuerde que para el modelo C se retorna un diccionario donde la llave corresponde a la columna `sex`."
   ]
  },
  {
   "cell_type": "code",
   "execution_count": null,
   "metadata": {
    "Collapsed": "false"
   },
   "outputs": [],
   "source": [
    "coeffs_A = ## FIX ME PLEASE ##\n",
    "coeffs_B = ## FIX ME PLEASE ##\n",
    "coeffs_C = ## FIX ME PLEASE ##"
   ]
  },
  {
   "cell_type": "markdown",
   "metadata": {
    "Collapsed": "false"
   },
   "source": [
    "### 3. Predicción (1 pto)\n",
    "\n",
    "Con los coeficientes de los modelos realize la predicción utilizando el conjunto de test. El resultado debe ser un array de shape `(835, )` por lo que debes concatenar los resultados del modelo C. \n",
    "\n",
    "**Hint**: Usar `np.concatenate`."
   ]
  },
  {
   "cell_type": "code",
   "execution_count": null,
   "metadata": {
    "Collapsed": "false"
   },
   "outputs": [],
   "source": [
    "y_pred_A = ## FIX ME PLEASE ##\n",
    "y_pred_B = ## FIX ME PLEASE ##\n",
    "y_pred_C = ## FIX ME PLEASE ##"
   ]
  },
  {
   "cell_type": "markdown",
   "metadata": {
    "Collapsed": "false"
   },
   "source": [
    "### 4. Cálculo del error (1 pto)\n",
    "\n",
    "Se utilizará el Error Cuadrático Medio (MSE) que se define como \n",
    "\n",
    "$$\\textrm{MSE}(y,\\hat{y}) =\\dfrac{1}{n}\\sum_{t=1}^{n}\\left | y_{t}-\\hat{y}_{t}\\right |^2$$\n",
    "\n",
    "Defina una la función `MSE` y el vectores `y_test_A`, `y_test_B` e `y_test_C` para luego calcular el error para cada modelo. \n",
    "\n",
    "**Ojo:** Nota que al calcular el error cuadrático medio se realiza una resta elemento por elemento, por lo que el orden del vector es importante, en particular para el modelo que separa por `sex`."
   ]
  },
  {
   "cell_type": "code",
   "execution_count": null,
   "metadata": {
    "Collapsed": "false"
   },
   "outputs": [],
   "source": [
    "def MSE(y_real, y_pred):\n",
    "    ## FIX ME PLEASE ##"
   ]
  },
  {
   "cell_type": "code",
   "execution_count": null,
   "metadata": {
    "Collapsed": "false"
   },
   "outputs": [],
   "source": [
    "y_test_A = ## FIX ME PLEASE ##\n",
    "y_test_B = ## FIX ME PLEASE ##\n",
    "y_test_C = ## FIX ME PLEASE ##"
   ]
  },
  {
   "cell_type": "code",
   "execution_count": null,
   "metadata": {
    "Collapsed": "false"
   },
   "outputs": [],
   "source": [
    "error_A = ## FIX ME PLEASE ##\n",
    "error_B = ## FIX ME PLEASE ##\n",
    "error_C = ## FIX ME PLEASE ##"
   ]
  },
  {
   "cell_type": "code",
   "execution_count": null,
   "metadata": {
    "Collapsed": "false"
   },
   "outputs": [],
   "source": [
    "print(f\"Error modelo A: {error_A:.2f}\")\n",
    "print(f\"Error modelo B: {error_B:.2f}\")\n",
    "print(f\"Error modelo C: {error_B:.2f}\")"
   ]
  },
  {
   "cell_type": "markdown",
   "metadata": {
    "Collapsed": "false"
   },
   "source": [
    "**¿Cuál es el mejor modelo considerando esta métrica?**"
   ]
  },
  {
   "cell_type": "markdown",
   "metadata": {
    "Collapsed": "false"
   },
   "source": [
    "El mejor modelo considerando como métrica el `MSE` es el modelo **## FIX ME PLEASE ##**."
   ]
  }
 ],
 "metadata": {
  "celltoolbar": "Slideshow",
  "kernelspec": {
   "display_name": "Python [conda env:ds]",
   "language": "python",
   "name": "conda-env-ds-py"
  },
  "language_info": {
   "codemirror_mode": {
    "name": "ipython",
    "version": 3
   },
   "file_extension": ".py",
   "mimetype": "text/x-python",
   "name": "python",
   "nbconvert_exporter": "python",
   "pygments_lexer": "ipython3",
   "version": "3.7.6"
  }
 },
 "nbformat": 4,
 "nbformat_minor": 4
}
